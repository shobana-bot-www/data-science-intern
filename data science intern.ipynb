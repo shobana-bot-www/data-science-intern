{
 "cells": [
  {
   "cell_type": "code",
   "execution_count": null,
   "metadata": {},
   "outputs": [],
   "source": [
    "import folium\n",
    "import pandas as pd\n",
    " "
   ]
  },
  {
   "cell_type": "code",
   "execution_count": null,
   "metadata": {},
   "outputs": [],
   "source": [
    "SF_COORDINATES = (37.76, -122.45)\n",
    "crimedata = pd.read_csv('SFPD_Incidents_2015.csv')\n",
    " \n",
    "# for speed purposes\n",
    "MAX_RECORDS = 1000\n",
    "  \n",
    "# create empty map zoomed in on San Francisco\n",
    "map = folium.Map(location=SF_COORDINATES, zoom_start=12)\n",
    " \n",
    "# add a marker for every record in the filtered data, use a clustered view\n",
    "for each in crimedata[0:MAX_RECORDS].iterrows():\n",
    "    map.simple_marker(\n",
    "        location = [each[1]['Y'],each[1]['X']], \n",
    "        clustered_marker = True)\n",
    "  \n",
    "display(map)"
   ]
  },
  {
   "cell_type": "code",
   "execution_count": null,
   "metadata": {},
   "outputs": [],
   "source": [
    "# definition of the boundaries in the map\n",
    "district_geo = r'sfpddistricts.geojson'\n",
    "  \n",
    "# calculating total number of incidents per district\n",
    "crimedata2 = pd.DataFrame(crimedata['PdDistrict'].value_counts().astype(float))\n",
    "crimedata2.to_json('crimeagg.json')\n",
    "crimedata2 = crimedata2.reset_index()\n",
    "crimedata2.columns = ['District', 'Number']\n",
    "  \n",
    "# creation of the choropleth\n",
    "map1 = folium.Map(location=SF_COORDINATES, zoom_start=12)\n",
    "map1.geo_json(geo_path = district_geo, \n",
    "              data_out = 'crimeagg.json', \n",
    "              data = crimedata2,\n",
    "              columns = ['District', 'Number'],\n",
    "              key_on = 'feature.properties.DISTRICT',\n",
    "              fill_color = 'YlOrRd', \n",
    "              fill_opacity = 0.7, \n",
    "              line_opacity = 0.2,\n",
    "              legend_name = 'Number of incidents per district')\n",
    "               \n",
    "display(map1)"
   ]
  },
  {
   "cell_type": "code",
   "execution_count": null,
   "metadata": {},
   "outputs": [],
   "source": [
    "args = sys.argv\n",
    "dayselect = args[1].split(',')\n",
    "crimeselect = args[2]\n",
    " \n",
    "daycond = crimedata['DayOfWeek'].isin(dayselect) \n",
    "crimecond = crimedata['Category'] == (crimeselect)\n",
    "  \n",
    "filtered_crimedata = crimedata[crimecond & daycond]"
   ]
  }
 ],
 "metadata": {
  "kernelspec": {
   "display_name": "Python 3",
   "language": "python",
   "name": "python3"
  },
  "language_info": {
   "codemirror_mode": {
    "name": "ipython",
    "version": 3
   },
   "file_extension": ".py",
   "mimetype": "text/x-python",
   "name": "python",
   "nbconvert_exporter": "python",
   "pygments_lexer": "ipython3",
   "version": "3.8.3"
  }
 },
 "nbformat": 4,
 "nbformat_minor": 4
}
